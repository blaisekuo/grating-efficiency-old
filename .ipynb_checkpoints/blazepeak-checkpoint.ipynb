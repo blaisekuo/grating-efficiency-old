{
 "cells": [
  {
   "cell_type": "code",
   "execution_count": 15,
   "metadata": {},
   "outputs": [],
   "source": [
    "import pandas as pd\n",
    "import numpy as np\n",
    "import matplotlib.pyplot as plt\n",
    "import glob"
   ]
  },
  {
   "cell_type": "code",
   "execution_count": 16,
   "metadata": {},
   "outputs": [
    {
     "name": "stdout",
     "output_type": "stream",
     "text": [
      "1.408480706359424\n",
      "0.16231562043547265\n"
     ]
    }
   ],
   "source": [
    "#littrow mode grating equation\n",
    "# for R6 grating\n",
    "\n",
    "#order\n",
    "m = 0\n",
    "\n",
    "#wavelength (in nm)\n",
    "lam = 0\n",
    "\n",
    "#slit (in nm)\n",
    "# 13.33 groves/mm\n",
    "# 1mm = 1000000 microns\n",
    "# find d in microns\n",
    "gpmm = 13.33\n",
    "gpnm = 13.333/1000000\n",
    "d = 1000000/13.33\n",
    "\n",
    "#blaze angle (in radians)\n",
    "#80.7 degrees\n",
    "thetab = 80.7*(np.pi/180)\n",
    "print(thetab)\n",
    "\n",
    "# incident, diffraction angle (in radians)\n",
    "#9.3 degrees\n",
    "theta = 9.3*(np.pi/180)\n",
    "print(theta)\n",
    "\n",
    "#off plane angle (in radians)\n",
    "gamma = 0"
   ]
  },
  {
   "cell_type": "code",
   "execution_count": 44,
   "metadata": {},
   "outputs": [],
   "source": [
    "def calc_blaze_peak_order_gamma(lam, gamma):\n",
    "\n",
    "    m = (2*d*np.sin(thetab)*np.cos(theta)*np.cos(gamma))/lam\n",
    "    \n",
    "    print(\"blaze peak at\")\n",
    "    print(str(lam) + \" nm, with off plane angle (degrees) of:\")\n",
    "    print(gamma*(180/np.pi))\n",
    "    print(\"is at order:\")\n",
    "    print(m)\n",
    "    \n",
    "    return m\n",
    "    #print(m)"
   ]
  },
  {
   "cell_type": "code",
   "execution_count": 47,
   "metadata": {},
   "outputs": [
    {
     "name": "stdout",
     "output_type": "stream",
     "text": [
      "blaze peak at\n",
      "543 nm, with off plane angle (degrees) of:\n",
      "3.1129145322128844\n",
      "is at order:\n",
      "268.69899672646903\n"
     ]
    }
   ],
   "source": [
    "gamma=np.arctan(60/550)/2\n",
    "w543nm = calc_blaze_peak_order_gamma(543,gamma)"
   ]
  },
  {
   "cell_type": "code",
   "execution_count": 48,
   "metadata": {},
   "outputs": [
    {
     "name": "stdout",
     "output_type": "stream",
     "text": [
      "blaze peak at\n",
      "543 nm, with off plane angle (degrees) of:\n",
      "5.6549662370101075\n",
      "is at order:\n",
      "267.7864573093296\n"
     ]
    }
   ],
   "source": [
    "gamma=np.arctan(110/550)/2\n",
    "w543nm = calc_blaze_peak_order_gamma(543,gamma)"
   ]
  },
  {
   "cell_type": "code",
   "execution_count": 49,
   "metadata": {},
   "outputs": [
    {
     "name": "stdout",
     "output_type": "stream",
     "text": [
      "blaze peak at\n",
      "633 nm, with off plane angle (degrees) of:\n",
      "1.0412826398654422\n",
      "is at order:\n",
      "230.79783656721972\n"
     ]
    }
   ],
   "source": [
    "gamma=np.arctan(20/550)/2\n",
    "w543nm = calc_blaze_peak_order_gamma(633,gamma)"
   ]
  },
  {
   "cell_type": "code",
   "execution_count": 50,
   "metadata": {},
   "outputs": [
    {
     "name": "stdout",
     "output_type": "stream",
     "text": [
      "blaze peak at\n",
      "633 nm, with off plane angle (degrees) of:\n",
      "4.646654299698557\n",
      "is at order:\n",
      "230.07725523437537\n"
     ]
    }
   ],
   "source": [
    "gamma=np.arctan(90/550)/2\n",
    "w543nm = calc_blaze_peak_order_gamma(633,gamma)"
   ]
  },
  {
   "cell_type": "code",
   "execution_count": null,
   "metadata": {},
   "outputs": [],
   "source": []
  }
 ],
 "metadata": {
  "kernelspec": {
   "display_name": "Python 3",
   "language": "python",
   "name": "python3"
  },
  "language_info": {
   "codemirror_mode": {
    "name": "ipython",
    "version": 3
   },
   "file_extension": ".py",
   "mimetype": "text/x-python",
   "name": "python",
   "nbconvert_exporter": "python",
   "pygments_lexer": "ipython3",
   "version": "3.6.5"
  }
 },
 "nbformat": 4,
 "nbformat_minor": 2
}
