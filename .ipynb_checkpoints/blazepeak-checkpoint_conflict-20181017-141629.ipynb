{
 "cells": [
  {
   "cell_type": "code",
   "execution_count": 1,
   "metadata": {},
   "outputs": [],
   "source": [
    "import pandas as pd\n",
    "import numpy as np\n",
    "import matplotlib.pyplot as plt\n",
    "import glob"
   ]
  },
  {
   "cell_type": "code",
   "execution_count": 22,
   "metadata": {},
   "outputs": [
    {
     "name": "stdout",
     "output_type": "stream",
     "text": [
      "1.408480706359424\n",
      "0.16231562043547265\n"
     ]
    }
   ],
   "source": [
    "#littrow mode grating equation\n",
    "# for R6 grating\n",
    "\n",
    "#order\n",
    "m = 0\n",
    "\n",
    "#wavelength (in nm)\n",
    "lam = 1478\n",
    "\n",
    "#slit (in nm)\n",
    "# 13.33 groves/mm\n",
    "# 1mm = 1000000 microns\n",
    "# find d in microns\n",
    "gpmm = 13.33\n",
    "gpnm = 13.333/1000000\n",
    "d = 1000000/13.33\n",
    "\n",
    "#blaze angle (in radians)\n",
    "#80.7 degrees\n",
    "thetab = 80.7*(np.pi/180)\n",
    "print(thetab)\n",
    "\n",
    "# incident, diffraction angle (in radians)\n",
    "#9.3 degrees\n",
    "theta = 9.3*(np.pi/180)\n",
    "print(theta)\n",
    "\n",
    "#off plane angle (in radians)\n",
    "gamma = 0"
   ]
  },
  {
   "cell_type": "code",
   "execution_count": 23,
   "metadata": {},
   "outputs": [
    {
     "name": "stdout",
     "output_type": "stream",
     "text": [
      "98.86276085308127\n"
     ]
    }
   ],
   "source": [
    "m = (2*d*np.sin(thetab)*np.cos(theta)*np.cos(gamma))/lam\n",
    "print(m)"
   ]
  },
  {
   "cell_type": "code",
   "execution_count": null,
   "metadata": {},
   "outputs": [],
   "source": []
  }
 ],
 "metadata": {
  "kernelspec": {
   "display_name": "Python 3",
   "language": "python",
   "name": "python3"
  },
  "language_info": {
   "codemirror_mode": {
    "name": "ipython",
    "version": 3
   },
   "file_extension": ".py",
   "mimetype": "text/x-python",
   "name": "python",
   "nbconvert_exporter": "python",
   "pygments_lexer": "ipython3",
   "version": "3.6.4"
  }
 },
 "nbformat": 4,
 "nbformat_minor": 2
}
